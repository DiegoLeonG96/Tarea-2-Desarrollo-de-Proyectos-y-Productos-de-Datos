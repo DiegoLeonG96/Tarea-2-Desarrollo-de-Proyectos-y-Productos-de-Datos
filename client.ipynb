{
 "cells": [
  {
   "cell_type": "markdown",
   "id": "56147113",
   "metadata": {
    "id": "d7823f82"
   },
   "source": [
    "# Cliente\n"
   ]
  },
  {
   "cell_type": "markdown",
   "id": "0c018e73",
   "metadata": {},
   "source": [
    "## Imports básicos"
   ]
  },
  {
   "cell_type": "code",
   "execution_count": 4,
   "id": "24315801",
   "metadata": {
    "id": "e4818215"
   },
   "outputs": [],
   "source": [
    "import requests\n",
    "import numpy as np\n",
    "import json"
   ]
  },
  {
   "cell_type": "markdown",
   "id": "43c8be84",
   "metadata": {
    "id": "145e3c77"
   },
   "source": [
    "## Definir url de la API"
   ]
  },
  {
   "cell_type": "code",
   "execution_count": 8,
   "id": "2768d4e9",
   "metadata": {
    "id": "7d82632e"
   },
   "outputs": [],
   "source": [
    "base_url = 'http://localhost:8000'\n",
    "endpoint = '/predict'\n",
    "confidence = 0.5"
   ]
  },
  {
   "cell_type": "markdown",
   "id": "9650dec5",
   "metadata": {
    "id": "dfbbcff3"
   },
   "source": [
    "Para consumir el modelo, vamos a agregar el endpoint a la URL base para obtener la URL completa."
   ]
  },
  {
   "cell_type": "code",
   "execution_count": 9,
   "id": "85e16f86",
   "metadata": {
    "colab": {
     "base_uri": "https://localhost:8080/",
     "height": 35
    },
    "executionInfo": {
     "elapsed": 6,
     "status": "ok",
     "timestamp": 1628209364027,
     "user": {
      "displayName": "ALONSO ASTROZA TAGLE",
      "photoUrl": "",
      "userId": "10910938541244248966"
     },
     "user_tz": 240
    },
    "id": "53600c1f",
    "outputId": "c975d542-8a73-48b6-b707-6f3d6cdab4e1"
   },
   "outputs": [
    {
     "data": {
      "text/plain": [
       "'http://localhost:8000/predict'"
      ]
     },
     "execution_count": 9,
     "metadata": {},
     "output_type": "execute_result"
    }
   ],
   "source": [
    "url_with_endpoint_no_params = base_url + endpoint\n",
    "url_with_endpoint_no_params"
   ]
  },
  {
   "cell_type": "markdown",
   "id": "3bb73761",
   "metadata": {
    "id": "1f67290d"
   },
   "source": [
    "Para agregar los parámetros que deseamos, tenemos que usar la sintaxis de agregar un caracter \"?\" seguido del nombre del parámetro y su valor.\n",
    "\n",
    "Si lo hacemos la URL final quedaría en algo como esto:"
   ]
  },
  {
   "cell_type": "code",
   "execution_count": 7,
   "id": "28812664",
   "metadata": {
    "colab": {
     "base_uri": "https://localhost:8080/",
     "height": 35
    },
    "executionInfo": {
     "elapsed": 233,
     "status": "ok",
     "timestamp": 1628209383222,
     "user": {
      "displayName": "ALONSO ASTROZA TAGLE",
      "photoUrl": "",
      "userId": "10910938541244248966"
     },
     "user_tz": 240
    },
    "id": "11ee57fa",
    "outputId": "a94709da-1589-4125-c25b-8e2889111367"
   },
   "outputs": [
    {
     "data": {
      "text/plain": [
       "'http://localhost:8000/predict?confidence=0.5'"
      ]
     },
     "execution_count": 7,
     "metadata": {},
     "output_type": "execute_result"
    }
   ],
   "source": [
    "full_url = url_with_endpoint_no_params + \"?confidence=\" + str(confidence)\n",
    "full_url"
   ]
  },
  {
   "cell_type": "markdown",
   "id": "f1f530bb",
   "metadata": {
    "id": "cb87b52d"
   },
   "source": [
    "\n",
    "## Peticiones\n",
    "\n",
    "### Función para hacer la petición"
   ]
  },
  {
   "cell_type": "code",
   "execution_count": 14,
   "id": "13c6ec1d",
   "metadata": {
    "id": "299fe3a3"
   },
   "outputs": [],
   "source": [
    "def response_from_server(url, item_features, verbose=True):\n",
    "    \"\"\"Hace una solicitud POST al servidor y retorna la respuesta.\n",
    "\n",
    "    Argumentos:\n",
    "        url (str): URL a la que se envía la consulta.\n",
    "        item_features (dict): vector de característica del viaje.\n",
    "        verbose (bool): True si se debe imprimir el estado de la solicitud. False en otro caso.\n",
    "\n",
    "    Retorna:\n",
    "        requests.models.Response: Respuesta del servidor.\n",
    "    \"\"\"\n",
    "    response = requests.post(url, data=json.dumps(item_features))\n",
    "    status_code = response.status_code\n",
    "    if verbose:\n",
    "        msg = \"Successful request\" if status_code == 200 else \"There was an error\"\n",
    "        print(msg)\n",
    "    return response"
   ]
  },
  {
   "cell_type": "markdown",
   "id": "9c91bf77",
   "metadata": {},
   "source": [
    "### Peticiones"
   ]
  },
  {
   "cell_type": "markdown",
   "id": "7ae31bd7",
   "metadata": {},
   "source": [
    "Caso 1: hombre de clase baja, 29 años, 2 familiares a bordo, 3 hijos, tarifa en torno a 20 dólarea y salió del puerto Q"
   ]
  },
  {
   "cell_type": "code",
   "execution_count": 17,
   "id": "c65e1e63",
   "metadata": {
    "id": "37d3593d"
   },
   "outputs": [
    {
     "name": "stdout",
     "output_type": "stream",
     "text": [
      "Successful request\n"
     ]
    },
    {
     "data": {
      "text/plain": [
       "'{\"predicted_class\":\"no survived\"}'"
      ]
     },
     "execution_count": 17,
     "metadata": {},
     "output_type": "execute_result"
    }
   ],
   "source": [
    "item_features =  {\n",
    "\"pclass\": 3, \n",
    "\"sex\": \"male\", \n",
    "\"age\": 29, \n",
    "\"sibsp\": 2, \n",
    "\"parch\": 3, \n",
    "\"fare\": 20, \n",
    "\"embarked\": \"Q\"\n",
    "}\n",
    "prediction = response_from_server(full_url, item_features)\n",
    "prediction.text"
   ]
  },
  {
   "cell_type": "markdown",
   "id": "c90a4dd9",
   "metadata": {},
   "source": [
    "Caso 2: mujer de primera clase, 45 años, 1 familiar a bordo, 2 hijos, 500 dólares de tarifa y salió del puerto C"
   ]
  },
  {
   "cell_type": "code",
   "execution_count": 28,
   "id": "79182a4f",
   "metadata": {},
   "outputs": [
    {
     "name": "stdout",
     "output_type": "stream",
     "text": [
      "Successful request\n"
     ]
    },
    {
     "data": {
      "text/plain": [
       "'{\"predicted_class\":\"survived\"}'"
      ]
     },
     "execution_count": 28,
     "metadata": {},
     "output_type": "execute_result"
    }
   ],
   "source": [
    "item_features =  {\n",
    "\"pclass\": 1, \n",
    "\"sex\": \"female\", \n",
    "\"age\": 29, \n",
    "\"sibsp\": 1, \n",
    "\"parch\": 2, \n",
    "\"fare\": 500, \n",
    "\"embarked\": \"C\"\n",
    "}\n",
    "prediction = response_from_server(full_url, item_features)\n",
    "prediction.text"
   ]
  },
  {
   "cell_type": "markdown",
   "id": "34869e97",
   "metadata": {},
   "source": [
    "Caso 3: ingresar cualquier tipo en \"embarked\". Esto debe ser error, ya que solo se permite \"C\", \"S\" o \"Q\", donde  C = Cherbourg, Q = Queenstown y S = Southampton"
   ]
  },
  {
   "cell_type": "code",
   "execution_count": 26,
   "id": "a9169962",
   "metadata": {},
   "outputs": [
    {
     "name": "stdout",
     "output_type": "stream",
     "text": [
      "There was an error\n"
     ]
    },
    {
     "data": {
      "text/plain": [
       "'{\"detail\":[{\"type\":\"enum\",\"loc\":[\"body\",\"embarked\"],\"msg\":\"Input should be \\'C\\', \\'S\\' or \\'Q\\'\",\"input\":\"Valparaíso\",\"ctx\":{\"expected\":\"\\'C\\', \\'S\\' or \\'Q\\'\"}}]}'"
      ]
     },
     "execution_count": 26,
     "metadata": {},
     "output_type": "execute_result"
    }
   ],
   "source": [
    "item_features =  {\n",
    "\"pclass\": 1, \n",
    "\"sex\": \"female\", \n",
    "\"age\": 29, \n",
    "\"sibsp\": 1, \n",
    "\"parch\": 2, \n",
    "\"fare\": 500, \n",
    "\"embarked\": \"Valparaíso\"\n",
    "}\n",
    "prediction = response_from_server(full_url, item_features)\n",
    "prediction.text"
   ]
  },
  {
   "cell_type": "markdown",
   "id": "a1ce6b68",
   "metadata": {},
   "source": [
    "Caso 4: se ingresa una tarifa negativa, lo cual debe ser error porque evidentemente el dinero negativo no existe"
   ]
  },
  {
   "cell_type": "code",
   "execution_count": 27,
   "id": "32f11f2b",
   "metadata": {},
   "outputs": [
    {
     "name": "stdout",
     "output_type": "stream",
     "text": [
      "There was an error\n"
     ]
    },
    {
     "data": {
      "text/plain": [
       "'{\"detail\":[{\"type\":\"greater_than\",\"loc\":[\"body\",\"fare\"],\"msg\":\"Input should be greater than 0\",\"input\":-100,\"ctx\":{\"gt\":0.0}}]}'"
      ]
     },
     "execution_count": 27,
     "metadata": {},
     "output_type": "execute_result"
    }
   ],
   "source": [
    "item_features =  {\n",
    "\"pclass\": 1, \n",
    "\"sex\": \"female\", \n",
    "\"age\": 29, \n",
    "\"sibsp\": 1, \n",
    "\"parch\": 2, \n",
    "\"fare\": -100, \n",
    "\"embarked\": \"C\"\n",
    "}\n",
    "prediction = response_from_server(full_url, item_features)\n",
    "prediction.text"
   ]
  },
  {
   "cell_type": "markdown",
   "id": "713982fb",
   "metadata": {},
   "source": [
    "Caso 5: se ingresa una clase que no corresponde (solo puede ser 1, 2 o 3)"
   ]
  },
  {
   "cell_type": "code",
   "execution_count": 29,
   "id": "6b3fa430",
   "metadata": {},
   "outputs": [
    {
     "name": "stdout",
     "output_type": "stream",
     "text": [
      "There was an error\n"
     ]
    },
    {
     "data": {
      "text/plain": [
       "'{\"detail\":[{\"type\":\"less_than_equal\",\"loc\":[\"body\",\"pclass\"],\"msg\":\"Input should be less than or equal to 3\",\"input\":4,\"ctx\":{\"le\":3}}]}'"
      ]
     },
     "execution_count": 29,
     "metadata": {},
     "output_type": "execute_result"
    }
   ],
   "source": [
    "item_features =  {\n",
    "\"pclass\": 4, \n",
    "\"sex\": \"female\", \n",
    "\"age\": 29, \n",
    "\"sibsp\": 1, \n",
    "\"parch\": 2, \n",
    "\"fare\": 100, \n",
    "\"embarked\": \"C\"\n",
    "}\n",
    "prediction = response_from_server(full_url, item_features)\n",
    "prediction.text"
   ]
  },
  {
   "cell_type": "markdown",
   "id": "f63eacec",
   "metadata": {},
   "source": [
    "Caso 6: mujer mayor, sin familiares ni hijos, clase baja y desde el puerto C"
   ]
  },
  {
   "cell_type": "code",
   "execution_count": 31,
   "id": "a3b763c0",
   "metadata": {},
   "outputs": [
    {
     "name": "stdout",
     "output_type": "stream",
     "text": [
      "Successful request\n"
     ]
    },
    {
     "data": {
      "text/plain": [
       "'{\"predicted_class\":\"no survived\"}'"
      ]
     },
     "execution_count": 31,
     "metadata": {},
     "output_type": "execute_result"
    }
   ],
   "source": [
    "item_features =  {\n",
    "\"pclass\": 3, \n",
    "\"sex\": \"female\", \n",
    "\"age\": 70, \n",
    "\"sibsp\": 0, \n",
    "\"parch\": 0, \n",
    "\"fare\": 10, \n",
    "\"embarked\": \"C\"\n",
    "}\n",
    "prediction = response_from_server(full_url, item_features)\n",
    "prediction.text"
   ]
  },
  {
   "cell_type": "markdown",
   "id": "9785c7f2",
   "metadata": {},
   "source": [
    "Caso 7: la misma mujer del caso 6, pero de clase alta"
   ]
  },
  {
   "cell_type": "code",
   "execution_count": 32,
   "id": "76a59981",
   "metadata": {},
   "outputs": [
    {
     "name": "stdout",
     "output_type": "stream",
     "text": [
      "Successful request\n"
     ]
    },
    {
     "data": {
      "text/plain": [
       "'{\"predicted_class\":\"survived\"}'"
      ]
     },
     "execution_count": 32,
     "metadata": {},
     "output_type": "execute_result"
    }
   ],
   "source": [
    "item_features =  {\n",
    "\"pclass\": 1, \n",
    "\"sex\": \"female\", \n",
    "\"age\": 70, \n",
    "\"sibsp\": 0, \n",
    "\"parch\": 0, \n",
    "\"fare\": 400, \n",
    "\"embarked\": \"C\"\n",
    "}\n",
    "prediction = response_from_server(full_url, item_features)\n",
    "prediction.text"
   ]
  }
 ],
 "metadata": {
  "colab": {
   "collapsed_sections": [],
   "name": "client.ipynb",
   "provenance": [
    {
     "file_id": "1WyDwDL7HNADH-hdM17TIk4BL1iQXvrdR",
     "timestamp": 1656109789669
    }
   ]
  },
  "kernelspec": {
   "display_name": "tarea_apis",
   "language": "python",
   "name": "python3"
  },
  "language_info": {
   "codemirror_mode": {
    "name": "ipython",
    "version": 3
   },
   "file_extension": ".py",
   "mimetype": "text/x-python",
   "name": "python",
   "nbconvert_exporter": "python",
   "pygments_lexer": "ipython3",
   "version": "3.13.5"
  }
 },
 "nbformat": 4,
 "nbformat_minor": 5
}
